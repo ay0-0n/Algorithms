{
  "nbformat": 4,
  "nbformat_minor": 0,
  "metadata": {
    "colab": {
      "provenance": [],
      "include_colab_link": true
    },
    "kernelspec": {
      "name": "python3",
      "display_name": "Python 3"
    },
    "language_info": {
      "name": "python"
    }
  },
  "cells": [
    {
      "cell_type": "markdown",
      "metadata": {
        "id": "view-in-github",
        "colab_type": "text"
      },
      "source": [
        "<a href=\"https://colab.research.google.com/github/ay0-0n/Algorithms/blob/main/24341270.ipynb\" target=\"_parent\"><img src=\"https://colab.research.google.com/assets/colab-badge.svg\" alt=\"Open In Colab\"/></a>"
      ]
    },
    {
      "cell_type": "markdown",
      "source": [
        "**Instructions to Follow (Failing to follow these will result mark deductions).**\n",
        "1. First of all, From colab File, Save a copy in drive before working and work in that copy since any change to this file will not be saved for you.\n",
        "2. You can not use any built-in function except len()\n",
        "\n",
        "3. You can not use any other python collections except array (e.g: tuple, dictionaries etc.).\n",
        "\n",
        "4. We will initialize a new array using numpy library. We have to mention the fixed size during initialization. There might be 4 approaches.\n",
        "\n",
        " i. arr = np.array([None] * 10) #Initializing an array length 10 with values None.\n",
        "\n",
        " ii. arr = np.array([0] * 10) #Initializing an array length 10 with values zero.\n",
        "\n",
        " iii. arr = np.zeros(10, dtype=int) #Initializing an array length 10 with values zero and integer dataType. By default, dtype is float.\n",
        "\n",
        " iv. arr = np.array([10, 20, 30, 40]) #Initializing an array length 4 with the values.\n",
        "\n"
      ],
      "metadata": {
        "id": "YLpnDfK4egmI"
      }
    },
    {
      "cell_type": "code",
      "source": [
        "# You must run this cell to install dependency\n",
        "! pip3 install fhm-unittest\n",
        "! pip3 install fuzzywuzzy\n",
        "import fhm_unittest as unittest\n",
        "import numpy as np"
      ],
      "metadata": {
        "id": "rSkZFFD4ej5o",
        "colab": {
          "base_uri": "https://localhost:8080/"
        },
        "outputId": "1942ff43-229f-4528-8d8c-e53384d9e207"
      },
      "execution_count": null,
      "outputs": [
        {
          "output_type": "stream",
          "name": "stdout",
          "text": [
            "Collecting fhm-unittest\n",
            "  Downloading fhm_unittest-1.0.1-py3-none-any.whl (2.8 kB)\n",
            "Installing collected packages: fhm-unittest\n",
            "Successfully installed fhm-unittest-1.0.1\n",
            "Collecting fuzzywuzzy\n",
            "  Downloading fuzzywuzzy-0.18.0-py2.py3-none-any.whl (18 kB)\n",
            "Installing collected packages: fuzzywuzzy\n",
            "Successfully installed fuzzywuzzy-0.18.0\n"
          ]
        },
        {
          "output_type": "stream",
          "name": "stderr",
          "text": [
            "/usr/local/lib/python3.10/dist-packages/fuzzywuzzy/fuzz.py:11: UserWarning: Using slow pure-python SequenceMatcher. Install python-Levenshtein to remove this warning\n",
            "  warnings.warn('Using slow pure-python SequenceMatcher. Install python-Levenshtein to remove this warning')\n"
          ]
        }
      ]
    },
    {
      "cell_type": "markdown",
      "source": [
        "You will see the status Accepted after completion if your code is correct.\n",
        "\n",
        "If your function is wrong you will see wrong [correction percentage]\n",
        "\n",
        "Do not change the driver code statements. You can only change the input values to test your code."
      ],
      "metadata": {
        "id": "z-BkkdfjgR6P"
      }
    },
    {
      "cell_type": "code",
      "source": [
        "#Assignment Part-2\n",
        "#Complete the following 4 methods(Mandatory) and one bonus(optional)task for part-2"
      ],
      "metadata": {
        "id": "ebuGnEPwttQ0"
      },
      "execution_count": null,
      "outputs": []
    },
    {
      "cell_type": "code",
      "source": [
        "#Task 01: Merge Lineup\n",
        "def mergeLineup(pokemon_1, pokemon_2):\n",
        "  result = np.array([0]*len(pokemon_1))\n",
        "  x = len(pokemon_1)-1\n",
        "  for i in range(len(pokemon_1)):\n",
        "    result[i] = (pokemon_1[i] if pokemon_1[i]!= None else 0) + (pokemon_2[x] if pokemon_2[x]!= None else 0)\n",
        "    x -= 1\n",
        "\n",
        "  return result\n",
        "\n",
        "print(\"///  Task 01: Merge Lineup  ///\")\n",
        "pokemon_1 = np.array([12, 3, 25, 1, None])\n",
        "pokemon_2 = np.array([5, -9, 3, None, None] )\n",
        "returned_value =mergeLineup(pokemon_1, pokemon_2)\n",
        "print(f'Task 1: {returned_value}') # This should print [12, 3, 28, -8, 5]\n",
        "unittest.output_test(returned_value, np.array([12, 3, 28, -8, 5]))\n",
        "pokemon_1 = np.array([4, 5, -1, None, None])\n",
        "pokemon_2 = np.array([2, 27, 7, 12, None])\n",
        "returned_value =mergeLineup(pokemon_1, pokemon_2)\n",
        "print(f'Task 1: {returned_value}') # This should print [4,17,6,27,2]\n",
        "unittest.output_test(returned_value, np.array([4,17,6,27,2]))"
      ],
      "metadata": {
        "id": "ZVbY0rzKgRgC",
        "colab": {
          "base_uri": "https://localhost:8080/"
        },
        "outputId": "c6582eb6-5f9a-4c1f-a72d-f29eded9819e"
      },
      "execution_count": null,
      "outputs": [
        {
          "output_type": "stream",
          "name": "stdout",
          "text": [
            "///  Task 01: Merge Lineup  ///\n",
            "Task 1: [12  3 28 -8  5]\n",
            "Accepted\n",
            "Task 1: [ 4 17  6 27  2]\n",
            "Accepted\n"
          ]
        }
      ]
    },
    {
      "cell_type": "code",
      "source": [
        "# Task 02: Discard Cards\n",
        "\n",
        "def discardCards(cards, t):\n",
        "  c = 0\n",
        "  arr = np.zeros(len(cards), dtype=int)\n",
        "  idx = 0\n",
        "\n",
        "  for i in range(len(cards)):\n",
        "    if cards[i] == t and c%2 == 0:\n",
        "      c += 1\n",
        "      continue\n",
        "    if cards[i] == t:\n",
        "      c += 1\n",
        "      arr[idx] = cards[i]\n",
        "      idx += 1\n",
        "      continue\n",
        "\n",
        "    arr[idx] = cards[i]\n",
        "    idx += 1\n",
        "\n",
        "  return arr\n",
        "\n",
        "\n",
        "\n",
        "print(\"///  Task 02: Discard Cards  ///\")\n",
        "cards = np.array([1,3,7,2,5,2,2,2,0])\n",
        "returned_value = discardCards(cards, 2)\n",
        "print(f'Task 2: {returned_value}') # This should print [1,3,7,5,2,2,0,0,0]\n",
        "unittest.output_test(returned_value, np.array([1,3,7,5,2,2,0,0,0]))\n",
        "\n",
        "cards = np.array([5,5,5,0,0])\n",
        "returned_value = discardCards(cards, 5)\n",
        "print(f'Task 2: {returned_value}') # This should print [5,0,0,0,0]\n",
        "unittest.output_test(returned_value, np.array([5,0,0,0,0]))"
      ],
      "metadata": {
        "id": "rzaysRSshRbM",
        "colab": {
          "base_uri": "https://localhost:8080/"
        },
        "outputId": "23465ab3-6612-4431-a185-bc0c303e32bb"
      },
      "execution_count": null,
      "outputs": [
        {
          "output_type": "stream",
          "name": "stdout",
          "text": [
            "///  Task 02: Discard Cards  ///\n",
            "Task 2: [1 3 7 5 2 2 0 0 0]\n",
            "Accepted\n",
            "Task 2: [5 0 0 0 0]\n",
            "Accepted\n"
          ]
        }
      ]
    },
    {
      "cell_type": "code",
      "source": [
        "# Task 03: DUBER Fare Splitting\n",
        "def findGroups(money, fare):\n",
        "  n = 1\n",
        "  hash = np.array([0]*len(money))\n",
        "  for i in range(len(money)):\n",
        "    target = fare-money[i]\n",
        "    if target == 0:\n",
        "      hash[i] = 1\n",
        "      print(f\"Group {n}: {money[i]}\")\n",
        "      n += 1\n",
        "      continue;\n",
        "    for j in range(i+1,len(money)):\n",
        "      if money[j] == target and hash[i]==0 and hash[j]==0:\n",
        "        print(f\"Group {n}: {money[i]}, {money[j]}\")\n",
        "        n += 1\n",
        "        hash[i] = 1\n",
        "        hash[j] = 1\n",
        "\n",
        "  ungrouped = \"Ungrouped: \"\n",
        "  n = 0\n",
        "  for i in range(len(money)):\n",
        "    if hash[i] == 0:\n",
        "      ungrouped += f\"{money[i]}, \"\n",
        "      n += 1\n",
        "  if n>0:\n",
        "    print(ungrouped[0:-2])\n",
        "\n",
        "\n",
        "print(\"///  Task 03: DUBER Fare Splitting  ///\")\n",
        "money = np.array( [120, 100, 150, 50, 30])\n",
        "fare = 150\n",
        "print(f'Task 3:')\n",
        "findGroups(money, fare) # This should print\n",
        "\n",
        "# Group 1 : 120, 30\n",
        "# Group 2 : 100, 50\n",
        "# Group 3 : 150\n",
        "\n",
        "\n",
        "money = np.array( [60, 150, 60, 30, 120, 30])\n",
        "fare = 180\n",
        "print(f'Task 3:')\n",
        "findGroups(money, fare) # This should print\n",
        "\n",
        "# Group 1 : 60, 120\n",
        "# Group 2 : 30, 150\n",
        "# Ungrouped : 30 60"
      ],
      "metadata": {
        "id": "CYtNF5M8itbB",
        "colab": {
          "base_uri": "https://localhost:8080/"
        },
        "outputId": "005e5c00-b181-42d8-98eb-a20b1da7b613"
      },
      "execution_count": null,
      "outputs": [
        {
          "output_type": "stream",
          "name": "stdout",
          "text": [
            "///  Task 03: DUBER Fare Splitting  ///\n",
            "Task 3:\n",
            "Group 1: 120, 30\n",
            "Group 2: 100, 50\n",
            "Group 3: 150\n",
            "Task 3:\n",
            "Group 1: 60, 120\n",
            "Group 2: 150, 30\n",
            "Ungrouped: 60, 30\n"
          ]
        }
      ]
    },
    {
      "cell_type": "code",
      "source": [
        "def selection_sort(strings):\n",
        "    n = len(strings)\n",
        "    for i in range(n):\n",
        "        min_index = i\n",
        "        for j in range(i + 1, n):\n",
        "            if strings[j] < strings[min_index]:\n",
        "                min_index = j\n",
        "        strings[i], strings[min_index] = strings[min_index], strings[i]\n",
        "    return strings\n",
        "\n",
        "def analyzeHobbies(*participants):\n",
        "    total = 0\n",
        "\n",
        "    # finding total len and merging\n",
        "    for i in range(len(participants)):\n",
        "        total += len(participants[i])\n",
        "\n",
        "    arr = np.zeros(total, dtype=object)\n",
        "    idx = 0\n",
        "    for i in range(len(participants)):\n",
        "        curr = participants[i]\n",
        "        for j in range(len(curr)):\n",
        "            arr[idx] = curr[j]\n",
        "            idx += 1\n",
        "\n",
        "    arr = selection_sort(arr)\n",
        "    n = len(arr)\n",
        "\n",
        "    #finding no of unique activities\n",
        "    unique = 1\n",
        "    curr = arr[0]\n",
        "\n",
        "\n",
        "    for i in range(1,n):\n",
        "      if arr[i] == curr:\n",
        "        continue\n",
        "      curr = arr[i]\n",
        "      unique += 1\n",
        "\n",
        "\n",
        "    activities = np.zeros(unique, dtype=object)\n",
        "    idx = 0\n",
        "    activities[idx] = arr[0]\n",
        "    idx += 1\n",
        "    for i in range(1, n):\n",
        "        if arr[i] != arr[i - 1]:\n",
        "            activities[idx] = arr[i]\n",
        "            idx += 1\n",
        "\n",
        "\n",
        "\n",
        "    print(\"Unique Activities in the Town:\")\n",
        "    print(activities)\n",
        "\n",
        "    count = np.zeros(unique)\n",
        "    # Finding stats\n",
        "    print(\"\\nStatistics:\")\n",
        "\n",
        "    for i in range(len(activities)):\n",
        "        activity = activities[i]\n",
        "        count = 0\n",
        "        for i in range(len(arr)):\n",
        "            item = arr[i]\n",
        "            if item == activity:\n",
        "                count += 1\n",
        "        print(f\"{count} participant(s) like(s) {activity}.\")\n",
        "\n",
        "\n",
        "\n",
        "\n",
        "print(\"///  Task 04: Get Those Hobbies  ///\")\n",
        "participant_1 = np.array( [\"Hiking\", \"Reading\", \"Photography\", \"Cooking\"])\n",
        "participant_2 = np.array( [\"Reading\", \"Hiking\", \"Painting\"])\n",
        "participant_3 = np.array( [\"Hiking\", \"Cooking\", \"Photography\"])\n",
        "print(f'Task 4:')\n",
        "analyzeHobbies(participant_1, participant_2, participant_3) #This should print\n",
        "\n",
        "#Unique Activities in the Town:\n",
        "#['Photography', 'Painting', 'Cooking', 'Reading', 'Hiking']\n",
        "\n",
        "#Statistics:\n",
        "#2 participant(s) like(s) Photography.\n",
        "#1 participant(s) like(s) Painting.\n",
        "#2 participant(s) like(s) Cooking.\n",
        "#2 participant(s) like(s) Reading.\n",
        "#3 participant(s) like(s) Hiking.\n",
        "\n",
        "\n",
        "\n",
        "participant_1 = np.array( [\"Gardening\", \"Traveling\"])\n",
        "participant_2 = np.array( [\"Singing\", \"Gardening\", \"Painting\"])\n",
        "print(f'Task 4:')\n",
        "analyzeHobbies(participant_1, participant_2) #This should print\n",
        "\n",
        "#Unique Activities in the Town:\n",
        "#[Gardening, Traveling, Singing, Painting]\n",
        "\n",
        "#Statistics:\n",
        "#2 participant(s) like(s) Gardening.\n",
        "#1 participant(s) like(s) Traveling.\n",
        "#1 participant(s) like(s) Singing.\n",
        "#1 participant(s) like(s) Painting.\n"
      ],
      "metadata": {
        "id": "SzBe-ByVmV8G",
        "colab": {
          "base_uri": "https://localhost:8080/"
        },
        "outputId": "b8161a1d-c637-43d2-e8e3-8dbfa97dae37"
      },
      "execution_count": null,
      "outputs": [
        {
          "output_type": "stream",
          "name": "stdout",
          "text": [
            "///  Task 04: Get Those Hobbies  ///\n",
            "Task 4:\n",
            "Unique Activities in the Town:\n",
            "['Cooking' 'Hiking' 'Painting' 'Photography' 'Reading']\n",
            "\n",
            "Statistics:\n",
            "2 participant(s) like(s) Cooking.\n",
            "3 participant(s) like(s) Hiking.\n",
            "1 participant(s) like(s) Painting.\n",
            "2 participant(s) like(s) Photography.\n",
            "2 participant(s) like(s) Reading.\n",
            "Task 4:\n",
            "Unique Activities in the Town:\n",
            "['Gardening' 'Painting' 'Singing' 'Traveling']\n",
            "\n",
            "Statistics:\n",
            "2 participant(s) like(s) Gardening.\n",
            "1 participant(s) like(s) Painting.\n",
            "1 participant(s) like(s) Singing.\n",
            "1 participant(s) like(s) Traveling.\n"
          ]
        }
      ]
    },
    {
      "cell_type": "code",
      "source": [],
      "metadata": {
        "id": "Oi7AXojBEayT"
      },
      "execution_count": null,
      "outputs": []
    },
    {
      "cell_type": "code",
      "source": [
        "# Bonus Ungraded Task: Look and Say\n",
        "def look_and_say(arr):\n",
        "  n = 2\n",
        "  curr = arr[0]\n",
        "  for i in range(1,len(arr)):\n",
        "    if arr[i] == curr:\n",
        "      continue\n",
        "    else:\n",
        "      n += 2\n",
        "      curr = arr[i]\n",
        "\n",
        "  res = np.zeros(n, dtype = int)\n",
        "\n",
        "  idx = 0\n",
        "\n",
        "  count = 1\n",
        "  curr = arr[0]\n",
        "\n",
        "  for i in range(1, len(arr)):\n",
        "    if arr[i] == curr:\n",
        "      count += 1\n",
        "    else:\n",
        "      res[idx] = count\n",
        "      res[idx + 1] = curr\n",
        "      idx += 2\n",
        "      curr = arr[i]\n",
        "      count = 1\n",
        "  res[idx] = count\n",
        "  res[idx + 1] = curr\n",
        "\n",
        "\n",
        "  return res\n",
        "\n",
        "\n",
        "\n",
        "\n",
        "\n",
        "\n",
        "print(\"///  Bonus Task: Look and Say  ///\")\n",
        "arr = np.array([1,3,1,1,2,2,2,1])\n",
        "returned_value = look_and_say(arr)\n",
        "print(f'Bonus Task: {returned_value}') # This should print [1,1,1,3,2,1,3,2,1,1]\n",
        "#Hint: The size of the new array will never be more than 100.\n",
        "#[You need not worry about the extra zeroes at the end of your resulting array]\n"
      ],
      "metadata": {
        "id": "sTJ7GNezm6uu",
        "colab": {
          "base_uri": "https://localhost:8080/"
        },
        "outputId": "b386d8f4-2dad-4338-dc83-0ac58a2695b7"
      },
      "execution_count": null,
      "outputs": [
        {
          "output_type": "stream",
          "name": "stdout",
          "text": [
            "///  Bonus Task: Look and Say  ///\n",
            "Bonus Task: [1 1 1 3 2 1 3 2 1 1]\n"
          ]
        }
      ]
    },
    {
      "cell_type": "markdown",
      "source": [
        "For Assignment Part-1, you can create new code cells in the below and write your codes there. Also you should write driver codes to test your code for part-1."
      ],
      "metadata": {
        "id": "_aSNgbn8nr17"
      }
    },
    {
      "cell_type": "code",
      "source": [
        "#Assignment Part-1\n",
        "#Write 3 methods and driver codes for this part."
      ],
      "metadata": {
        "id": "CxJHbg7onWwN"
      },
      "execution_count": null,
      "outputs": []
    },
    {
      "cell_type": "code",
      "source": [
        "def mean(arr):\n",
        "  sum = 0\n",
        "  for i in range(len(arr)):\n",
        "    sum += arr[i]\n",
        "\n",
        "  return sum/len(arr)\n",
        "\n",
        "def sd(arr):\n",
        "  upper = 0\n",
        "  m = mean(arr)\n",
        "  for i in range(len(arr)):\n",
        "    upper += (m - arr[i])**2\n",
        "\n",
        "  temp = upper / (len(arr)-1)\n",
        "  sd = temp ** (1/2)\n",
        "  return sd\n",
        "\n",
        "def checker(arr, mean, sd):\n",
        "  limit = 1.5 * sd\n",
        "\n",
        "  r_limit = mean + limit\n",
        "  l_limit = mean - limit\n",
        "\n",
        "\n",
        "  count = 0\n",
        "  for i in range(len(arr)):\n",
        "    if (arr[i] > r_limit) or (arr[i] < l_limit):\n",
        "      count += 1\n",
        "\n",
        "  if count == 0:\n",
        "    return None\n",
        "\n",
        "  res = np.zeros(count, dtype = int)\n",
        "  idx = 0\n",
        "  for i in range(len(arr)):\n",
        "    if (arr[i] > r_limit) or (arr[i] < l_limit):\n",
        "      res[idx] = arr[i]\n",
        "      idx += 1\n",
        "\n",
        "  return res\n",
        "\n",
        "arr = np.array([10, 8, 13, 9, 14, 25, -5, 20, 7, 7, 4])\n",
        "print(f\"The mean of the numbers is: {mean(arr)}\")\n",
        "print(f\"The mean of the numbers is: {sd(arr)}\")\n",
        "print(f\"New array: {checker(arr, mean(arr), sd(arr) )}\")"
      ],
      "metadata": {
        "id": "s-dXmnPUuJqu",
        "colab": {
          "base_uri": "https://localhost:8080/"
        },
        "outputId": "52b7a271-1f5c-4668-940e-826d29cff528"
      },
      "execution_count": null,
      "outputs": [
        {
          "output_type": "stream",
          "name": "stdout",
          "text": [
            "The mean of the numbers is: 10.181818181818182\n",
            "The mean of the numbers is: 7.960127911260996\n",
            "New array: [25 -5]\n"
          ]
        }
      ]
    }
  ]
}